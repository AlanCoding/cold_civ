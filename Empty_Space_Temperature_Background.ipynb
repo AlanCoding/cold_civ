{
 "cells": [
  {
   "cell_type": "code",
   "execution_count": 59,
   "id": "f3f8c9ed-70fe-4f9d-a11c-59f3996d0ecd",
   "metadata": {},
   "outputs": [],
   "source": [
    "from astropy.constants import M_sun, R_sun, G, sigma_sb\n",
    "from math import pi\n",
    "from astropy import units\n",
    "T_sun = 5778 * units.K\n",
    "T_cmb = 2.73 * units.K"
   ]
  },
  {
   "cell_type": "markdown",
   "id": "aa633c4c-27c9-4904-bd33-6dd9ac25c8b4",
   "metadata": {},
   "source": [
    "### Star Volume\n",
    "We take a list of nearby stars to Earth and use that to compute an average volume of space per star. First this is done with the 20th star by distnace and then by the 54th star."
   ]
  },
  {
   "cell_type": "code",
   "execution_count": 61,
   "id": "9a5558be-9039-421d-9537-caa8212b0edb",
   "metadata": {},
   "outputs": [
    {
     "data": {
      "text/latex": [
       "$389.58242 \\; \\mathrm{lyr^{3}}$"
      ],
      "text/plain": [
       "<Quantity 389.58242232 lyr3>"
      ]
     },
     "execution_count": 61,
     "metadata": {},
     "output_type": "execute_result"
    }
   ],
   "source": [
    "# average volume per star\n",
    "V_per_star = (4/3)*pi*((12.5*units.lyr)**3)/21\n",
    "V_per_star.to(units.lyr**3)"
   ]
  },
  {
   "cell_type": "code",
   "execution_count": 63,
   "id": "4434ebab-8f5a-40dd-ba31-ba23d0098dd2",
   "metadata": {},
   "outputs": [
    {
     "data": {
      "text/latex": [
       "$329.79183 \\; \\mathrm{lyr^{3}}$"
      ],
      "text/plain": [
       "<Quantity 329.7918304 lyr3>"
      ]
     },
     "execution_count": 63,
     "metadata": {},
     "output_type": "execute_result"
    }
   ],
   "source": [
    "# average volume per star but using top 50 instead\n",
    "V_per_star = (4/3)*pi*((16.2*units.lyr)**3)/54\n",
    "V_per_star.to(units.lyr**3)"
   ]
  },
  {
   "cell_type": "markdown",
   "id": "de05b7f3-639d-40a1-9765-968059d594bf",
   "metadata": {},
   "source": [
    "### Linear Stellar Density\n",
    "To avoid doing much calculus, we imagine the Milky Way as a 2-dimensional sheet which is 1,000 light-years thick. We can imagine a box with that dimension on the side and imagine that we are looking at it from the side. Then, by using the area of a star and the average volume per star, we can get a rough measure of the area fraction occupied by stars."
   ]
  },
  {
   "cell_type": "code",
   "execution_count": 71,
   "id": "32e00ed0-f362-4040-8735-7c4cf0edd968",
   "metadata": {},
   "outputs": [
    {
     "data": {
      "text/latex": [
       "$3032215.8 \\; \\mathrm{}$"
      ],
      "text/plain": [
       "<Quantity 3032215.80345785>"
      ]
     },
     "execution_count": 71,
     "metadata": {},
     "output_type": "execute_result"
    }
   ],
   "source": [
    "# number of starts in relevant volume\n",
    "L_star_box = 1000*units.lyr\n",
    "N_stars = L_star_box**3/V_per_star\n",
    "N_stars"
   ]
  },
  {
   "cell_type": "code",
   "execution_count": 74,
   "id": "8814f049-91a5-489b-913a-bba0ec2bc94a",
   "metadata": {},
   "outputs": [
    {
     "data": {
      "text/latex": [
       "$5.1511553 \\times 10^{-14} \\; \\mathrm{}$"
      ],
      "text/plain": [
       "<Quantity 5.15115533e-14>"
      ]
     },
     "execution_count": 74,
     "metadata": {},
     "output_type": "execute_result"
    }
   ],
   "source": [
    "# face-on area fraction occupied by stars\n",
    "Star_frac = (N_stars*pi*R_sun**2 / L_star_box**2).decompose()\n",
    "Star_frac"
   ]
  },
  {
   "cell_type": "markdown",
   "id": "9a1b032b-6e57-4991-81fa-7882fd98cbaf",
   "metadata": {},
   "source": [
    "### Empty Space Temperature\n",
    "With the area fraction occupied by stars (very small) and the temperature of stars (very large) we can get a more accurate (and higher) temperature for a free-floating object than just the CMB temperature"
   ]
  },
  {
   "cell_type": "code",
   "execution_count": 75,
   "id": "7d0eb658-48e3-4f7e-a61d-41f0e242ff5f",
   "metadata": {},
   "outputs": [
    {
     "data": {
      "text/latex": [
       "$3.260097 \\; \\mathrm{K}$"
      ],
      "text/plain": [
       "<Quantity 3.26009697 K>"
      ]
     },
     "execution_count": 75,
     "metadata": {},
     "output_type": "execute_result"
    }
   ],
   "source": [
    "# resultant equilibrium temperature\n",
    "((Star_frac*T_sun**4 + T_cmb**4))**(1/4)"
   ]
  },
  {
   "cell_type": "code",
   "execution_count": null,
   "id": "61ce3d04-4ae3-4ceb-a707-e06a51597c87",
   "metadata": {},
   "outputs": [],
   "source": []
  }
 ],
 "metadata": {
  "kernelspec": {
   "display_name": "Python 3 (ipykernel)",
   "language": "python",
   "name": "python3"
  },
  "language_info": {
   "codemirror_mode": {
    "name": "ipython",
    "version": 3
   },
   "file_extension": ".py",
   "mimetype": "text/x-python",
   "name": "python",
   "nbconvert_exporter": "python",
   "pygments_lexer": "ipython3",
   "version": "3.11.4"
  }
 },
 "nbformat": 4,
 "nbformat_minor": 5
}
