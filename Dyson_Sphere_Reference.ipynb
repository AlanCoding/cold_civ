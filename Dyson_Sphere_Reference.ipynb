{
 "cells": [
  {
   "cell_type": "code",
   "execution_count": 4,
   "id": "3567846c-f3c1-4d97-b47d-8d5000aba727",
   "metadata": {},
   "outputs": [],
   "source": [
    "from astropy.constants import sigma_sb, k_B\n",
    "from math import pi\n",
    "from astropy import units\n",
    "M = 3.285*(10**23)*units.kg\n",
    "Q = 3.846*(10**26)*units.W\n",
    "R = units.AU\n",
    "T_sun = 5778 * units.K"
   ]
  },
  {
   "cell_type": "markdown",
   "id": "50be3970-c1e0-4b32-8d0c-65d3e587c6da",
   "metadata": {},
   "source": [
    "Calculating the sphere's temperature\n",
    "$$\n",
    "\\dot{Q} = \\sigma A T^4\n",
    "$$\n",
    "\n",
    "For computational limit we use this equation\n",
    "\n",
    "$$\n",
    "E >= k_B T \\cdot \\ln{2}\n",
    "$$\n",
    "\n",
    "First, we will give the temperature and then computational limit of a traditional Dyson sphere (shell or swarm, makes no difference)."
   ]
  },
  {
   "cell_type": "code",
   "execution_count": 5,
   "id": "e0efc4d7-bc4b-490e-94f2-b61a12e80460",
   "metadata": {},
   "outputs": [
    {
     "data": {
      "text/latex": [
       "$394.07984 \\; \\mathrm{K}$"
      ],
      "text/plain": [
       "<Quantity 394.07983603 K>"
      ]
     },
     "execution_count": 5,
     "metadata": {},
     "output_type": "execute_result"
    }
   ],
   "source": [
    "T = ((Q/(sigma_sb*4*pi*R**2)).decompose())**(1./4)\n",
    "T"
   ]
  },
  {
   "cell_type": "markdown",
   "id": "05076b61-a49b-4abb-ab11-7eb31038df5a",
   "metadata": {},
   "source": [
    "That comes out to 121 C, which is... hot, but when you look, actually correct. I had to Google that to reassure myself.\n",
    "https://canmom.art/physics/dyson-spheres#:~:text=So%20you%20have%20T%20%E2%88%9D,is%20about%20120%20%E2%88%98%20C%20.\n",
    "Onto the intent of this sheet, we can get a maximum nuber of computations per second with a Dyson sphere."
   ]
  },
  {
   "cell_type": "code",
   "execution_count": 6,
   "id": "937d1a41-7c15-4332-8d83-0239aa60dee2",
   "metadata": {},
   "outputs": [
    {
     "data": {
      "text/latex": [
       "$7.0687363 \\times 10^{46} \\; \\mathrm{\\frac{1}{s}}$"
      ],
      "text/plain": [
       "<Quantity 7.06873635e+46 1 / s>"
      ]
     },
     "execution_count": 6,
     "metadata": {},
     "output_type": "execute_result"
    }
   ],
   "source": [
    "(Q/(k_B*T)).decompose()"
   ]
  },
  {
   "cell_type": "markdown",
   "id": "9a750968-a469-4b8c-afda-9efa7be77830",
   "metadata": {},
   "source": [
    "### Performance With Q Varied\n",
    "\n",
    "Now we will consider how varying the heat production can vary the different metrics we care about. Those are:\n",
    "1. The useful energy that can be obtained via Carnot engines\n",
    "2. The maximum number of computations that can be performed\n",
    "\n",
    "These are distinctly different metrics with the computation being $1/T$ the useful energy. In either case, the total heat production will affect the temperature of the sphere, which then feeds into the figure-of-merit. For both, we get a different number for the optimum which is more than 0 but less that running the entire sphere at the temperature of the sun.\n",
    "\n",
    "#### Useful Work\n",
    "\n",
    "$$\n",
    "\\dot{W} = \\epsilon \\dot{Q} = \\frac{ (T_H - T_C) }{ T_H } A \\sigma T_C^4 \n",
    "$$\n",
    "\n",
    "#### Computation\n",
    "\n",
    "$$\n",
    "\\dot{C} = \\frac{\\dot{W}}{k_B T}\n",
    "$$"
   ]
  },
  {
   "cell_type": "code",
   "execution_count": 25,
   "id": "128669fd-e6aa-44d3-8f87-35388a9ffef3",
   "metadata": {},
   "outputs": [],
   "source": [
    "def W(T):\n",
    "    return ((T_sun-T)*sigma_sb*4*pi*(units.AU**2)*(T**4)/T_sun).decompose().to(units.W)"
   ]
  },
  {
   "cell_type": "code",
   "execution_count": 26,
   "id": "da00085e-0d56-4bdc-a6d9-71d004c4931f",
   "metadata": {},
   "outputs": [
    {
     "data": {
      "text/latex": [
       "$3.5808393 \\times 10^{26} \\; \\mathrm{W}$"
      ],
      "text/plain": [
       "<Quantity 3.58083925e+26 W>"
      ]
     },
     "execution_count": 26,
     "metadata": {},
     "output_type": "execute_result"
    }
   ],
   "source": [
    "# example use\n",
    "W(394*units.K)"
   ]
  },
  {
   "cell_type": "code",
   "execution_count": 28,
   "id": "11dedd00-4f6f-43a9-92ee-9cd3a8e21472",
   "metadata": {},
   "outputs": [
    {
     "data": {
      "text/latex": [
       "$1.115686 \\times 10^{26} \\; \\mathrm{W}$"
      ],
      "text/plain": [
       "<Quantity 1.11568604e+26 W>"
      ]
     },
     "execution_count": 28,
     "metadata": {},
     "output_type": "execute_result"
    }
   ],
   "source": [
    "# example for room temperature, will give lower total heat production\n",
    "# example use\n",
    "W(293*units.K)"
   ]
  },
  {
   "cell_type": "code",
   "execution_count": 29,
   "id": "dcd80b7e-6600-4a8f-a669-08da156862c6",
   "metadata": {},
   "outputs": [
    {
     "data": {
      "text/latex": [
       "$3.5808393 \\times 10^{26} \\; \\mathrm{}$"
      ],
      "text/plain": [
       "<Quantity 3.58083925e+26>"
      ]
     },
     "execution_count": 29,
     "metadata": {},
     "output_type": "execute_result"
    }
   ],
   "source": [
    "# how to convert to a scalar\n",
    "W(394*units.K)/units.W"
   ]
  },
  {
   "cell_type": "code",
   "execution_count": 42,
   "id": "6413d6d1-2ac5-4f97-8423-8685203c4ddc",
   "metadata": {},
   "outputs": [],
   "source": [
    "def C(T):\n",
    "    return (W(T)/(k_B*T)).decompose().to(units.Hz)"
   ]
  },
  {
   "cell_type": "code",
   "execution_count": 43,
   "id": "419676e5-30a1-4899-af62-38b2453de509",
   "metadata": {},
   "outputs": [
    {
     "data": {
      "text/latex": [
       "$6.5827191 \\times 10^{46} \\; \\mathrm{Hz}$"
      ],
      "text/plain": [
       "<Quantity 6.58271907e+46 Hz>"
      ]
     },
     "execution_count": 43,
     "metadata": {},
     "output_type": "execute_result"
    }
   ],
   "source": [
    "C(394*units.K)"
   ]
  },
  {
   "cell_type": "code",
   "execution_count": null,
   "id": "7b28663e-56ae-41ff-9c83-6dc0b3b0c7be",
   "metadata": {},
   "outputs": [],
   "source": []
  },
  {
   "cell_type": "code",
   "execution_count": null,
   "id": "dc09e666-93aa-41fe-9109-d1062ace1c3f",
   "metadata": {},
   "outputs": [],
   "source": []
  },
  {
   "cell_type": "code",
   "execution_count": 50,
   "id": "b4b9931f-023c-476e-a132-68ac24b1d6d8",
   "metadata": {},
   "outputs": [
    {
     "data": {
      "image/png": "[encoded data removed]",
      "text/plain": [
       "<Figure size 960x320 with 2 Axes>"
      ]
     },
     "metadata": {},
     "output_type": "display_data"
    }
   ],
   "source": [
    "import matplotlib.pyplot as plt\n",
    "import numpy as np\n",
    "\n",
    "plt.style.use('ggplot')\n",
    "\n",
    "%matplotlib inline\n",
    "\n",
    "pts = 100\n",
    "T_inc = T_sun/(units.K*pts)\n",
    "t_eval = np.arange(T_inc, T_inc*100, T_inc)\n",
    "\n",
    "plt.figure(figsize = (12, 4))\n",
    "plt.subplot(121)\n",
    "plt.plot(t_eval, [W(t*units.K)/units.W for t in t_eval])\n",
    "plt.xlabel('T')\n",
    "plt.ylabel('W(T)')\n",
    "plt.subplot(122)\n",
    "plt.plot(t_eval, [C(t*units.K)/units.Hz for t in t_eval])\n",
    "plt.xlabel('T')\n",
    "plt.ylabel('C(T)')\n",
    "plt.tight_layout()\n",
    "plt.show()"
   ]
  },
  {
   "cell_type": "markdown",
   "id": "23a41378-d59d-4560-a902-2bc8ce2525c9",
   "metadata": {},
   "source": [
    "### Commentary\n",
    "\n",
    "You can see the peak occuring at slightly lower temperatures for the C graph than for the W graph. You can get the temperature of the max point symbolically.\n",
    "\n",
    "$$\n",
    "\\dot{W} = \\frac{ (T_H - T_C) }{ T_H } A \\sigma T_C^4 = A \\sigma \\left( T_C^4 - \\frac{T_C^5}{T_H} \\right)\n",
    "$$\n",
    "\n",
    "Maximum occurs when the derivative is at zero. (the reverse statement often isn't true, but it will not matter)\n",
    "\n",
    "$$\n",
    "\\frac{dW}{dT_C} = 0 = A \\sigma \\left( 4 T_C^3 - 5 \\frac{T_C^4}{T_H} \\right)\n",
    "$$\n",
    "\n",
    "$$\n",
    "4 T_C^3 = 5 \\frac{T_C^4}{T_H}\n",
    "$$\n",
    "\n",
    "$$\n",
    "4 = 5 \\frac{T_C}{T_H}\n",
    "$$\n",
    "\n",
    "$$\n",
    "T_C = \\frac{4}{5} T_H\n",
    "$$\n",
    "\n",
    "You can do the same thing for the C equation, and you will ultimately find a $3/4$ factor, matching with the plots."
   ]
  },
  {
   "cell_type": "code",
   "execution_count": null,
   "id": "66e2aa9f-5cda-4a16-a886-9496564fb666",
   "metadata": {},
   "outputs": [],
   "source": []
  },
  {
   "cell_type": "code",
   "execution_count": null,
   "id": "69c298f3-86c7-408d-802b-4fc2c5b97f9b",
   "metadata": {},
   "outputs": [],
   "source": []
  },
  {
   "cell_type": "code",
   "execution_count": null,
   "id": "6ba09b58-ea26-4ed8-ae50-ddb455e4dda5",
   "metadata": {},
   "outputs": [],
   "source": []
  },
  {
   "cell_type": "code",
   "execution_count": null,
   "id": "28a804bc-68ec-4aa6-969f-b83d33cda4cd",
   "metadata": {},
   "outputs": [],
   "source": []
  }
 ],
 "metadata": {
  "kernelspec": {
   "display_name": "Python 3 (ipykernel)",
   "language": "python",
   "name": "python3"
  },
  "language_info": {
   "codemirror_mode": {
    "name": "ipython",
    "version": 3
   },
   "file_extension": ".py",
   "mimetype": "text/x-python",
   "name": "python",
   "nbconvert_exporter": "python",
   "pygments_lexer": "ipython3",
   "version": "3.11.4"
  }
 },
 "nbformat": 4,
 "nbformat_minor": 5
}
