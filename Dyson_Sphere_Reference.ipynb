{
 "cells": [
  {
   "cell_type": "code",
   "execution_count": 24,
   "id": "3567846c-f3c1-4d97-b47d-8d5000aba727",
   "metadata": {},
   "outputs": [],
   "source": [
    "from astropy.constants import M_sun, R_sun, G, sigma_sb, k_B\n",
    "from math import pi\n",
    "from astropy import units\n",
    "M = 3.285*(10**23)*units.kg\n",
    "Q = 3.846*(10**26)*units.W\n",
    "R = units.AU"
   ]
  },
  {
   "cell_type": "markdown",
   "id": "50be3970-c1e0-4b32-8d0c-65d3e587c6da",
   "metadata": {},
   "source": [
    "Calculating the sphere's temperature\n",
    "$$\n",
    "\\dot{Q} = \\sigma A T^4\n",
    "$$\n",
    "\n",
    "For computational limit\n",
    "\n",
    "$$\n",
    "E >= k_B T \\cdot \\ln{2}\n",
    "$$\n"
   ]
  },
  {
   "cell_type": "code",
   "execution_count": 29,
   "id": "e0efc4d7-bc4b-490e-94f2-b61a12e80460",
   "metadata": {},
   "outputs": [
    {
     "data": {
      "text/latex": [
       "$394.07984 \\; \\mathrm{K}$"
      ],
      "text/plain": [
       "<Quantity 394.07983603 K>"
      ]
     },
     "execution_count": 29,
     "metadata": {},
     "output_type": "execute_result"
    }
   ],
   "source": [
    "T = ((Q/(sigma_sb*4*pi*R**2)).decompose())**(1./4)\n",
    "T"
   ]
  },
  {
   "cell_type": "markdown",
   "id": "05076b61-a49b-4abb-ab11-7eb31038df5a",
   "metadata": {},
   "source": [
    "That comes out to 121 C, which is... hot, but when you look, actually correct. I had to Google that to reassure myself.\n",
    "https://canmom.art/physics/dyson-spheres#:~:text=So%20you%20have%20T%20%E2%88%9D,is%20about%20120%20%E2%88%98%20C%20.\n",
    "Onto the intent of this sheet, we can get a maximum nuber of computations per second with a Dyson sphere."
   ]
  },
  {
   "cell_type": "code",
   "execution_count": 32,
   "id": "937d1a41-7c15-4332-8d83-0239aa60dee2",
   "metadata": {},
   "outputs": [
    {
     "data": {
      "text/latex": [
       "$7.0687363 \\times 10^{46} \\; \\mathrm{\\frac{1}{s}}$"
      ],
      "text/plain": [
       "<Quantity 7.06873635e+46 1 / s>"
      ]
     },
     "execution_count": 32,
     "metadata": {},
     "output_type": "execute_result"
    }
   ],
   "source": [
    "(Q/(k_B*T)).decompose()"
   ]
  },
  {
   "cell_type": "code",
   "execution_count": null,
   "id": "f2e9c18a-2c0d-42de-be26-0313b9d7e9c0",
   "metadata": {},
   "outputs": [],
   "source": []
  },
  {
   "cell_type": "code",
   "execution_count": null,
   "id": "128669fd-e6aa-44d3-8f87-35388a9ffef3",
   "metadata": {},
   "outputs": [],
   "source": []
  },
  {
   "cell_type": "code",
   "execution_count": null,
   "id": "da00085e-0d56-4bdc-a6d9-71d004c4931f",
   "metadata": {},
   "outputs": [],
   "source": []
  },
  {
   "cell_type": "code",
   "execution_count": null,
   "id": "11dedd00-4f6f-43a9-92ee-9cd3a8e21472",
   "metadata": {},
   "outputs": [],
   "source": []
  },
  {
   "cell_type": "code",
   "execution_count": null,
   "id": "dcd80b7e-6600-4a8f-a669-08da156862c6",
   "metadata": {},
   "outputs": [],
   "source": []
  },
  {
   "cell_type": "code",
   "execution_count": null,
   "id": "b4b9931f-023c-476e-a132-68ac24b1d6d8",
   "metadata": {},
   "outputs": [],
   "source": []
  }
 ],
 "metadata": {
  "kernelspec": {
   "display_name": "Python 3 (ipykernel)",
   "language": "python",
   "name": "python3"
  },
  "language_info": {
   "codemirror_mode": {
    "name": "ipython",
    "version": 3
   },
   "file_extension": ".py",
   "mimetype": "text/x-python",
   "name": "python",
   "nbconvert_exporter": "python",
   "pygments_lexer": "ipython3",
   "version": "3.11.4"
  }
 },
 "nbformat": 4,
 "nbformat_minor": 5
}
