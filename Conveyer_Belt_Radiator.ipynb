{
 "cells": [
  {
   "cell_type": "code",
   "execution_count": 4,
   "id": "b35f2f77-544b-4791-a695-3145e71deada",
   "metadata": {},
   "outputs": [],
   "source": [
    "# Just imports\n",
    "from astropy.constants import sigma_sb, k_B\n",
    "from math import pi, log\n",
    "from astropy import units"
   ]
  },
  {
   "cell_type": "code",
   "execution_count": 3,
   "id": "ece12184-94c4-4d6a-adbb-6c4e36101d9c",
   "metadata": {},
   "outputs": [],
   "source": [
    "# Temperature with infinite time in free space\n",
    "T0 = 3.3*units.K\n",
    "# Set variables for problem statement\n",
    "# any of these may be adjusted in further iterations of the problem\n",
    "M = 3.285*(10**23)*units.kg\n",
    "Q = 3.846*(10**26)*units.W\n",
    "V = 198*units.m/units.s\n",
    "T_sun = 5778 * units.K\n",
    "# Properties of steel\n",
    "steel_rho = 8000*units.kg/(units.m)**3  # density\n",
    "steel_c = 420*units.J/(units.kg*units.K)  # specific heat\n",
    "steel_k = 45*units.W/(units.m*units.K)  # thermal condutivity, not using at the moment"
   ]
  },
  {
   "cell_type": "markdown",
   "id": "8647818f-23a2-43f4-acd7-aedc7486ff0a",
   "metadata": {},
   "source": [
    "### Figure of Merit\n",
    "We will define the quantity we wish to optimize here, which are the number of computations per second\n",
    "that our hypothetical construction enables given all the parameters.\n",
    "These parameters are not solved for at the moment, so they are taken as inputs.\n",
    "\n",
    "$$\n",
    "\\bar{\\dot{C}} = \\frac{2}{\\pi} \\frac{ \\dot{Q} }{ T_H k_B \\ln{2} } \\left( \\frac{ T_H }{ T_{c2} - T_{c1}} \\ln{\\frac{T_{c2}}{T_{c1}}} -1 \\right)\n",
    "$$\n",
    "\n",
    "We'll define that, and then try to do a few test calculations."
   ]
  },
  {
   "cell_type": "code",
   "execution_count": 14,
   "id": "9451f327-2901-47a9-90b2-771464b046d4",
   "metadata": {},
   "outputs": [],
   "source": [
    "def FOM(Tc1, Tc2):\n",
    "    return ((2/pi)*Q/(T_sun*k_B*log(2))*(T_sun/(Tc2-Tc1)*log(Tc2/Tc1)-1)).decompose()"
   ]
  },
  {
   "cell_type": "code",
   "execution_count": 15,
   "id": "b709c6f7-ec9f-47dc-997d-6c6efa0751d9",
   "metadata": {},
   "outputs": [
    {
     "data": {
      "text/latex": [
       "$6.650795 \\times 10^{46} \\; \\mathrm{\\frac{1}{s}}$"
      ],
      "text/plain": [
       "<Quantity 6.65079504e+46 1 / s>"
      ]
     },
     "execution_count": 15,
     "metadata": {},
     "output_type": "execute_result"
    }
   ],
   "source": [
    "FOM(500*units.K, 250*units.K)"
   ]
  },
  {
   "cell_type": "code",
   "execution_count": 18,
   "id": "4e47e0ed-9f69-4659-bb10-34cc34fee987",
   "metadata": {},
   "outputs": [
    {
     "data": {
      "text/latex": [
       "$7.0493109 \\times 10^{47} \\; \\mathrm{\\frac{1}{s}}$"
      ],
      "text/plain": [
       "<Quantity 7.04931092e+47 1 / s>"
      ]
     },
     "execution_count": 18,
     "metadata": {},
     "output_type": "execute_result"
    }
   ],
   "source": [
    "FOM(50*units.K, 25*units.K)"
   ]
  },
  {
   "cell_type": "code",
   "execution_count": 17,
   "id": "a7091914-b472-4540-8271-78cc5208d5f1",
   "metadata": {},
   "outputs": [
    {
     "data": {
      "text/latex": [
       "$6.0516124 \\times 10^{46} \\; \\mathrm{\\frac{1}{s}}$"
      ],
      "text/plain": [
       "<Quantity 6.05161239e+46 1 / s>"
      ]
     },
     "execution_count": 17,
     "metadata": {},
     "output_type": "execute_result"
    }
   ],
   "source": [
    "FOM(394*units.K, 393.9*units.K)"
   ]
  },
  {
   "cell_type": "markdown",
   "id": "eec19c34-92d9-456f-a9b8-d8de7b45e6c8",
   "metadata": {},
   "source": [
    "Already, we have something to compare to `Dyson_Sphere_Reference.ipynb`.\n",
    "That reported 7e46 Hz at 394 K, which is awfully close.\n",
    "They should really be the actual same, and I could let the theorist in me stress about this, but... later."
   ]
  },
  {
   "cell_type": "markdown",
   "id": "c71a87e7-9990-4038-ab37-445773ace2a4",
   "metadata": {},
   "source": [
    "### Supporting Equations\n",
    "These are mostly trivial equations, but they help to formalize here,\n",
    "becase we need everything in terms of $R$, so we can have these handy in terms of that variable.\n",
    "\n",
    "$$\n",
    "d = \\frac{ M }{ 2 \\pi^2 R^2 \\rho }\n",
    "$$\n",
    "\n",
    "$$\n",
    "a = \\frac{ \\sigma }{ d \\rho c }\n",
    "$$"
   ]
  },
  {
   "cell_type": "code",
   "execution_count": 21,
   "id": "2b2eceb0-c8e4-43ca-9e55-1ac8e8190ace",
   "metadata": {},
   "outputs": [],
   "source": [
    "def d(R):\n",
    "    return (M/(2*pi**2*R**2*steel_rho)).decompose()"
   ]
  },
  {
   "cell_type": "code",
   "execution_count": 24,
   "id": "27a2d4ad-3a5f-49ca-b5fc-ed844226620b",
   "metadata": {},
   "outputs": [],
   "source": [
    "def a(R):\n",
    "    return (sigma_sb/(d(R)*steel_rho*steel_c)).decompose()"
   ]
  },
  {
   "cell_type": "markdown",
   "id": "1d4a3158-c687-438b-84e8-ff8bce122b8c",
   "metadata": {},
   "source": [
    "### Energy Balance\n",
    "This balance equation states that the radiator must be removing as much heat as the engine is producing.\n",
    "\n",
    "$$\n",
    "\\dot{Q} = \\rho d \\pi R V c \\left( T_{c2} - T_{c1} \\right)\n",
    "$$\n",
    "\n",
    "In practice, this will be reported as $\\Delta T$"
   ]
  },
  {
   "cell_type": "code",
   "execution_count": 26,
   "id": "7e03b162-7665-43bf-b69d-c8db36143585",
   "metadata": {},
   "outputs": [],
   "source": [
    "def delta_t(R):\n",
    "    return (Q/(steel_rho*d(R)*pi*R*V*steel_c)).decompose()"
   ]
  },
  {
   "cell_type": "code",
   "execution_count": 32,
   "id": "ad523341-3f29-4d78-8eec-41fbe74b0921",
   "metadata": {},
   "outputs": [
    {
     "data": {
      "text/latex": [
       "$132331.95 \\; \\mathrm{K}$"
      ],
      "text/plain": [
       "<Quantity 132331.94804545 K>"
      ]
     },
     "execution_count": 32,
     "metadata": {},
     "output_type": "execute_result"
    }
   ],
   "source": [
    "delta_t(units.AU/100000.)"
   ]
  },
  {
   "cell_type": "code",
   "execution_count": 34,
   "id": "282ae0f2-0410-4e22-ab1a-6d47dc2aa476",
   "metadata": {},
   "outputs": [
    {
     "data": {
      "text/latex": [
       "$1495.9787 \\; \\mathrm{km}$"
      ],
      "text/plain": [
       "<Quantity 1495.978707 km>"
      ]
     },
     "execution_count": 34,
     "metadata": {},
     "output_type": "execute_result"
    }
   ],
   "source": [
    "(units.AU/100000.).to(units.km)"
   ]
  },
  {
   "cell_type": "code",
   "execution_count": 35,
   "id": "45d713c5-1f4c-46de-b57a-8a1446210c8c",
   "metadata": {},
   "outputs": [
    {
     "data": {
      "text/latex": [
       "$3.285 \\times 10^{23} \\; \\mathrm{kg}$"
      ],
      "text/plain": [
       "<Quantity 3.285e+23 kg>"
      ]
     },
     "execution_count": 35,
     "metadata": {},
     "output_type": "execute_result"
    }
   ],
   "source": [
    "M"
   ]
  },
  {
   "cell_type": "code",
   "execution_count": 36,
   "id": "995ed28c-791a-4279-890a-c7b2df7ac70f",
   "metadata": {},
   "outputs": [
    {
     "data": {
      "text/latex": [
       "$88.458444 \\; \\mathrm{K}$"
      ],
      "text/plain": [
       "<Quantity 88.45844358 K>"
      ]
     },
     "execution_count": 36,
     "metadata": {},
     "output_type": "execute_result"
    }
   ],
   "source": [
    "delta_t(1000.*units.m)"
   ]
  },
  {
   "cell_type": "code",
   "execution_count": 37,
   "id": "698b8225-0275-42e0-a9b4-579f8d189df7",
   "metadata": {},
   "outputs": [
    {
     "data": {
      "text/latex": [
       "$2.0802506 \\times 10^{12} \\; \\mathrm{m}$"
      ],
      "text/plain": [
       "<Quantity 2.08025055e+12 m>"
      ]
     },
     "execution_count": 37,
     "metadata": {},
     "output_type": "execute_result"
    }
   ],
   "source": [
    "d(1000.*units.m)"
   ]
  },
  {
   "cell_type": "code",
   "execution_count": 38,
   "id": "e0b22f52-8e08-4b82-a64e-0953ac45aa28",
   "metadata": {},
   "outputs": [
    {
     "data": {
      "text/latex": [
       "$2.7875625 \\; \\mathrm{\\frac{K}{s}}$"
      ],
      "text/plain": [
       "<Quantity 2.78756251 K / s>"
      ]
     },
     "execution_count": 38,
     "metadata": {},
     "output_type": "execute_result"
    }
   ],
   "source": [
    "(Q/(M*steel_c)).decompose()"
   ]
  },
  {
   "cell_type": "code",
   "execution_count": null,
   "id": "07298801-9c25-4b50-bee9-f37a3c54fad9",
   "metadata": {},
   "outputs": [],
   "source": []
  },
  {
   "cell_type": "markdown",
   "id": "b889a360-a368-46fd-8191-2fb687809ca1",
   "metadata": {},
   "source": [
    "### Intermission\n",
    "\n",
    "I've ran into a problem when looking at the actual numbers.\n",
    "Put simply, the value selected for $M$, the mass of Mercury, is completely insufficient for the heat load selected.\n",
    "That heat load is selected to be the output of the sun.\n",
    "You can see that by the above simple division, that the heat output of the sun would heat up the _entire_ mass of Mercury (as steel) by 3 Kelvin per second.\n",
    "That necessarily means that you would have to run that entire planetary mass through the heat exchanger in a very short amount of time, which also makes the selected velocity of 200 m/s horribly naive, leaving the equations here far out of their domain of validity even in the best of circumstances."
   ]
  },
  {
   "cell_type": "code",
   "execution_count": null,
   "id": "a579599e-f4e5-4e61-bfe6-4167ed0c7d45",
   "metadata": {},
   "outputs": [],
   "source": []
  },
  {
   "cell_type": "code",
   "execution_count": null,
   "id": "f38e5277-566a-4b0e-a96b-ce50ddc96ffa",
   "metadata": {},
   "outputs": [],
   "source": []
  }
 ],
 "metadata": {
  "kernelspec": {
   "display_name": "Python 3 (ipykernel)",
   "language": "python",
   "name": "python3"
  },
  "language_info": {
   "codemirror_mode": {
    "name": "ipython",
    "version": 3
   },
   "file_extension": ".py",
   "mimetype": "text/x-python",
   "name": "python",
   "nbconvert_exporter": "python",
   "pygments_lexer": "ipython3",
   "version": "3.11.4"
  }
 },
 "nbformat": 4,
 "nbformat_minor": 5
}
